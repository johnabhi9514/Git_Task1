{
 "cells": [
  {
   "cell_type": "markdown",
   "id": "4433f84f",
   "metadata": {},
   "source": [
    "Demonstrate minimum 15 basic Git command with explanation and screenshot."
   ]
  },
  {
   "cell_type": "markdown",
   "id": "c49f7227",
   "metadata": {},
   "source": [
    "### git-init - Create an empty Git repository or reinitialize an existing one"
   ]
  },
  {
   "cell_type": "markdown",
   "id": "a28590ed",
   "metadata": {},
   "source": [
    "<img src ='Screenshot from 2022-10-08 21-30-16.png'/>"
   ]
  },
  {
   "cell_type": "markdown",
   "id": "850fbe29",
   "metadata": {},
   "source": [
    "### git add . - Git to take a snapshot of the contents of all files under the current directory and This snapshot is now stored in a temporary staging area which Git calls the \"index\"."
   ]
  },
  {
   "cell_type": "markdown",
   "id": "ab5de3c5",
   "metadata": {},
   "source": [
    "<img src=\"Screenshot from 2022-10-08 21-33-56.png\"/>"
   ]
  },
  {
   "cell_type": "markdown",
   "id": "fd21d775",
   "metadata": {},
   "source": [
    "### git add <filename> - Adding specific files to the staging\n",
    "### git status - list changes that you’ve made but not yet added in stagging or committe \n",
    "### git commit- Create a new commit containing the current contents of the index and the given log message describing the changes.\n",
    "### git remote add origin -Its help to create and update remote-tracking branches\n",
    "### git push u origin main - It help in pushing the data in github"
   ]
  },
  {
   "cell_type": "markdown",
   "id": "7533eab9",
   "metadata": {},
   "source": [
    "#### Git clone - clone the github folder into your local system\n",
    "#### git merge branch name - for merging to main branch\n",
    "#### git branch - To see all the branch name\n",
    "#### git checkout branch name -  to switching one branch to another\n",
    "#### git branch -d branch name - for deleting the specific branch\n"
   ]
  },
  {
   "cell_type": "markdown",
   "id": "640e36e1",
   "metadata": {},
   "source": [
    "<img src=\"Screenshot from 2022-10-09 13-03-44.png\"/>"
   ]
  },
  {
   "attachments": {},
   "cell_type": "markdown",
   "id": "ceb07f7b",
   "metadata": {},
   "source": [
    "<img src = \"Screensho1.png\" size=10000px/>"
   ]
  },
  {
   "cell_type": "code",
   "execution_count": null,
   "id": "7a26e726",
   "metadata": {},
   "outputs": [],
   "source": []
  }
 ],
 "metadata": {
  "kernelspec": {
   "display_name": "Python 3 (ipykernel)",
   "language": "python",
   "name": "python3"
  },
  "language_info": {
   "codemirror_mode": {
    "name": "ipython",
    "version": 3
   },
   "file_extension": ".py",
   "mimetype": "text/x-python",
   "name": "python",
   "nbconvert_exporter": "python",
   "pygments_lexer": "ipython3",
   "version": "3.9.12"
  }
 },
 "nbformat": 4,
 "nbformat_minor": 5
}
