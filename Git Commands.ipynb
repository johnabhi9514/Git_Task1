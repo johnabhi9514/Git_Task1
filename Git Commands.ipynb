{
 "cells": [
  {
   "cell_type": "markdown",
   "id": "4433f84f",
   "metadata": {},
   "source": [
    "Demonstrate minimum 15 basic Git command with explanation and screenshot."
   ]
  },
  {
   "cell_type": "markdown",
   "id": "c49f7227",
   "metadata": {},
   "source": [
    "### git-init - Create an empty Git repository or reinitialize an existing one"
   ]
  },
  {
   "cell_type": "markdown",
   "id": "a28590ed",
   "metadata": {},
   "source": [
    "<img src ='Screenshot from 2022-10-08 21-30-16.png'/>"
   ]
  },
  {
   "cell_type": "markdown",
   "id": "850fbe29",
   "metadata": {},
   "source": [
    "### git add . - Git to take a snapshot of the contents of all files under the current directory and This snapshot is now stored in a temporary staging area which Git calls the \"index\"."
   ]
  },
  {
   "cell_type": "markdown",
   "id": "ab5de3c5",
   "metadata": {},
   "source": [
    "<img src=\"Screenshot from 2022-10-08 21-33-56.png\"/>"
   ]
  },
  {
   "cell_type": "markdown",
   "id": "fd21d775",
   "metadata": {},
   "source": [
    "### git add <filename> - Adding specific files to the staging\n",
    "### git status - list changes that you’ve made but not yet added in stagging or committe \n",
    "### git commit- Create a new commit containing the current contents of the index and the given log message describing the changes.\n",
    "### git remote add origin -Its help to create and update remote-tracking branches\n",
    "### git push u origin main - It help in pushing the data in github"
   ]
  },
  {
   "cell_type": "markdown",
   "id": "f72e161c",
   "metadata": {},
   "source": [
    "<img src = \"Screenshot from 2022-10-08 21-59-09.png\">"
   ]
  },
  {
   "cell_type": "markdown",
   "id": "7533eab9",
   "metadata": {},
   "source": [
    "#### Git clone - clone the github folder into your local system\n",
    "#### git merge <branch name> - for merging to main branch\n",
    "#### git branch - To see all the branch name\n",
    "#### git checkout <branch name> -  to switching one branch to another\n",
    "#### git branch -d <branch name> - for deleting the specific branch\n",
    "\n",
    "\n",
    "<img src='Screenshot from 2022-10-08 22-30-09.png'/>\n",
    "\n",
    "<img src='Screenshot from 2022-10-09 11-16-59.png'/>"
   ]
  },
  {
   "cell_type": "markdown",
   "id": "88bd7340",
   "metadata": {},
   "source": [
    "<img src='Screenshot from 2022-10-09 13-41-16.png'/>\n",
    "<img src='Screenshot from 2022-10-09 13-03-44.png'/>"
   ]
  },
  {
   "cell_type": "markdown",
   "id": "95fde87d",
   "metadata": {},
   "source": []
  },
  {
   "cell_type": "markdown",
   "id": "1f6d1a78",
   "metadata": {},
   "source": []
  },
  {
   "cell_type": "markdown",
   "id": "1bba8069",
   "metadata": {},
   "source": []
  },
  {
   "cell_type": "code",
   "execution_count": null,
   "id": "8ac6cbfa",
   "metadata": {},
   "outputs": [],
   "source": []
  },
  {
   "cell_type": "code",
   "execution_count": null,
   "id": "dddab90c",
   "metadata": {},
   "outputs": [],
   "source": []
  },
  {
   "cell_type": "code",
   "execution_count": null,
   "id": "eb68248c",
   "metadata": {},
   "outputs": [],
   "source": []
  },
  {
   "cell_type": "raw",
   "id": "72767e36",
   "metadata": {},
   "source": []
  }
 ],
 "metadata": {
  "kernelspec": {
   "display_name": "Python 3 (ipykernel)",
   "language": "python",
   "name": "python3"
  },
  "language_info": {
   "codemirror_mode": {
    "name": "ipython",
    "version": 3
   },
   "file_extension": ".py",
   "mimetype": "text/x-python",
   "name": "python",
   "nbconvert_exporter": "python",
   "pygments_lexer": "ipython3",
   "version": "3.9.12"
  }
 },
 "nbformat": 4,
 "nbformat_minor": 5
}
